{
  "cells": [
    {
      "cell_type": "markdown",
      "metadata": {
        "id": "BhwN0XQX4Icu"
      },
      "source": [
        "# NeBender chatbot using Seq2Seq LSTM models\n",
        "This notebook is a fork of the - https://colab.research.google.com/github/sindar/test-notebooks/blob/master/ChatBot_With_Seq2Seq.ipynb\n",
        "\n",
        "In this notebook, we will assemble a seq2seq LSTM model using Keras Functional API to create a working chatbot trained on the dataset based on dialogues of the robor Bender from Futurama.\n"
      ]
    },
    {
      "cell_type": "markdown",
      "metadata": {
        "id": "tm5g4WIG5ym2"
      },
      "source": [
        "## 1) Importing the packages\n",
        "\n",
        "We will import [TensorFlow](https://www.tensorflow.org) and our beloved [Keras](https://www.tensorflow.org/guide/keras). Also, we import other modules which help in defining model layers.\n",
        "\n",
        "\n",
        "\n",
        "\n"
      ]
    },
    {
      "cell_type": "code",
      "execution_count": 1,
      "metadata": {
        "id": "UgZHR8TO0lFF"
      },
      "outputs": [],
      "source": [
        "\n",
        "import numpy as np\n",
        "import tensorflow as tf\n",
        "import pickle\n",
        "from tensorflow.keras import layers , activations , models , preprocessing\n"
      ]
    },
    {
      "cell_type": "markdown",
      "metadata": {
        "id": "sxiGOLldKOQD"
      },
      "source": [
        "## 2) Preprocessing the data"
      ]
    },
    {
      "cell_type": "markdown",
      "metadata": {
        "id": "nF1mDKD_R6Os"
      },
      "source": [
        "### A) Reading the data from the files\n",
        "\n",
        "We parse each of the `.yaml` files.\n",
        "\n",
        "*   Concatenate two or more sentences if the answer has two or more of them.\n",
        "*   Remove unwanted data types which are produced while parsing the data.\n",
        "*   Append `<START>` and `<END>` to all the `answers`.\n",
        "*   Create a `Tokenizer` and load the whole vocabulary ( `questions` + `answers` ) into it.\n",
        "\n",
        "\n",
        "\n"
      ]
    },
    {
      "cell_type": "code",
      "execution_count": 2,
      "metadata": {
        "id": "RzTBhga6MiV7"
      },
      "outputs": [
        {
          "name": "stdout",
          "output_type": "stream",
          "text": [
            "VOCAB SIZE : 4508\n"
          ]
        }
      ],
      "source": [
        "\n",
        "from tensorflow.keras import preprocessing , utils\n",
        "import os\n",
        "import yaml\n",
        "\n",
        "dir_path = 'bender_nlp/episodes'\n",
        "files_list = os.listdir(dir_path + os.sep)\n",
        "\n",
        "questions = list()\n",
        "answers = list()\n",
        "\n",
        "for filepath in files_list:\n",
        "    stream = open( dir_path + os.sep + filepath , 'rb')\n",
        "    docs = yaml.safe_load(stream)\n",
        "    conversations = docs['conversations']\n",
        "    for con in conversations:\n",
        "        if len( con ) > 2 :\n",
        "            questions.append(con[0])\n",
        "            replies = con[ 1 : ]\n",
        "            ans = ''\n",
        "            for rep in replies:\n",
        "                ans += ' ' + rep\n",
        "            answers.append( ans )\n",
        "        elif len( con )> 1:\n",
        "            questions.append(con[0])\n",
        "            answers.append(con[1])\n",
        "\n",
        "# with open(\"questions.txt\", \"w\") as file:\n",
        "#     # file.writelines(questions)\n",
        "#     for question in questions:\n",
        "#         file.write(question + '\\n')\n",
        "\n",
        "\n",
        "answers_with_tags = list()\n",
        "for i in range( len( answers ) ):\n",
        "    if type( answers[i] ) == str:\n",
        "        answers_with_tags.append( answers[i] )\n",
        "    else:\n",
        "        questions.pop( i )\n",
        "\n",
        "answers = list()\n",
        "for i in range( len( answers_with_tags ) ) :\n",
        "    answers.append( '<START> ' + answers_with_tags[i] + ' <END>' )\n",
        "\n",
        "tokenizer = preprocessing.text.Tokenizer()\n",
        "tokenizer.fit_on_texts( questions + answers )\n",
        "VOCAB_SIZE = len( tokenizer.word_index )+1\n",
        "print( 'VOCAB SIZE : {}'.format( VOCAB_SIZE ))\n"
      ]
    },
    {
      "cell_type": "markdown",
      "metadata": {
        "id": "mzsaO1YvS-M8"
      },
      "source": [
        "\n",
        "### B) Preparing data for Seq2Seq model\n",
        "\n",
        "Our model requires three arrays namely `encoder_input_data`, `decoder_input_data` and `decoder_output_data`.\n",
        "\n",
        "For `encoder_input_data` :\n",
        "* Tokenize the `questions`. Pad them to their maximum length.\n",
        "\n",
        "For `decoder_input_data` :\n",
        "* Tokenize the `answers`. Pad them to their maximum length.\n",
        "\n",
        "For `decoder_output_data` :\n",
        "\n",
        "* Tokenize the `answers`. Remove the first element from all the `tokenized_answers`. This is the `<START>` element which we added earlier.\n",
        "\n"
      ]
    },
    {
      "cell_type": "code",
      "execution_count": 3,
      "metadata": {
        "id": "a5AD9ooQKc33"
      },
      "outputs": [
        {
          "name": "stdout",
          "output_type": "stream",
          "text": [
            "(1299, 48) 48\n",
            "(1299, 73) 73\n",
            "(1299, 73, 4508)\n"
          ]
        }
      ],
      "source": [
        "\n",
        "from gensim.models import Word2Vec\n",
        "import re\n",
        "\n",
        "vocab = []\n",
        "for word in tokenizer.word_index:\n",
        "    vocab.append( word )\n",
        "\n",
        "def tokenize( sentences ):\n",
        "    tokens_list = []\n",
        "    vocabulary = []\n",
        "    for sentence in sentences:\n",
        "        sentence = sentence.lower()\n",
        "        sentence = re.sub( '[^a-zA-Z]', ' ', sentence )\n",
        "        tokens = sentence.split()\n",
        "        vocabulary += tokens\n",
        "        tokens_list.append( tokens )\n",
        "    return tokens_list , vocabulary\n",
        "\n",
        "#p = tokenize( questions + answers )\n",
        "#model = Word2Vec( p[ 0 ] ) \n",
        "\n",
        "#embedding_matrix = np.zeros( ( VOCAB_SIZE , 100 ) )\n",
        "#for i in range( len( tokenizer.word_index ) ):\n",
        "    #embedding_matrix[ i ] = model[ vocab[i] ]\n",
        "\n",
        "# encoder_input_data\n",
        "tokenized_questions = tokenizer.texts_to_sequences( questions )\n",
        "maxlen_questions = max( [ len(x) for x in tokenized_questions ] )\n",
        "padded_questions = preprocessing.sequence.pad_sequences( tokenized_questions , maxlen=maxlen_questions , padding='post' )\n",
        "encoder_input_data = np.array( padded_questions )\n",
        "print( encoder_input_data.shape , maxlen_questions )\n",
        "\n",
        "# decoder_input_data\n",
        "tokenized_answers = tokenizer.texts_to_sequences( answers )\n",
        "maxlen_answers = max( [ len(x) for x in tokenized_answers ] )\n",
        "padded_answers = preprocessing.sequence.pad_sequences( tokenized_answers , maxlen=maxlen_answers , padding='post' )\n",
        "decoder_input_data = np.array( padded_answers )\n",
        "print( decoder_input_data.shape , maxlen_answers )\n",
        "\n",
        "# decoder_output_data\n",
        "tokenized_answers = tokenizer.texts_to_sequences( answers )\n",
        "for i in range(len(tokenized_answers)) :\n",
        "    tokenized_answers[i] = tokenized_answers[i][1:]\n",
        "padded_answers = preprocessing.sequence.pad_sequences( tokenized_answers , maxlen=maxlen_answers , padding='post' )\n",
        "onehot_answers = utils.to_categorical( padded_answers , VOCAB_SIZE )\n",
        "decoder_output_data = np.array( onehot_answers )\n",
        "print( decoder_output_data.shape )\n"
      ]
    },
    {
      "cell_type": "markdown",
      "metadata": {
        "id": "4SwY3T139l19"
      },
      "source": [
        "## 3) Defining the Encoder-Decoder model\n",
        "The model will have Embedding, LSTM and Dense layers. The basic configuration is as follows.\n",
        "\n",
        "\n",
        "*   2 Input Layers : One for `encoder_input_data` and another for `decoder_input_data`.\n",
        "*   Embedding layer : For converting token vectors to fix sized dense vectors. **( Note :  Don't forget the `mask_zero=True` argument here )**\n",
        "*   LSTM layer : Provide access to Long-Short Term cells.\n",
        "\n",
        "Working : \n",
        "\n",
        "1.   The `encoder_input_data` comes in the Embedding layer (  `encoder_embedding` ). \n",
        "2.   The output of the Embedding layer goes to the LSTM cell which produces 2 state vectors ( `h` and `c` which are `encoder_states` )\n",
        "3.   These states are set in the LSTM cell of the decoder.\n",
        "4.   The decoder_input_data comes in through the Embedding layer.\n",
        "5.   The Embeddings goes in LSTM cell ( which had the states ) to produce seqeunces.\n",
        "\n",
        "\n",
        "\n",
        "<center><img style=\"float: center;\" src=\"https://cdn-images-1.medium.com/max/1600/1*bnRvZDDapHF8Gk8soACtCQ.gif\"></center>\n",
        "\n",
        "\n",
        "Image credits to [Hackernoon](https://hackernoon.com/tutorial-3-what-is-seq2seq-for-text-summarization-and-why-68ebaa644db0).\n",
        "\n",
        "\n",
        "\n",
        "\n",
        "\n",
        "\n",
        "\n",
        "\n"
      ]
    },
    {
      "cell_type": "code",
      "execution_count": 4,
      "metadata": {
        "id": "-gUYtOwv21rt"
      },
      "outputs": [
        {
          "name": "stdout",
          "output_type": "stream",
          "text": [
            "Model: \"model\"\n",
            "__________________________________________________________________________________________________\n",
            "Layer (type)                    Output Shape         Param #     Connected to                     \n",
            "==================================================================================================\n",
            "input_1 (InputLayer)            [(None, 48)]         0                                            \n",
            "__________________________________________________________________________________________________\n",
            "input_2 (InputLayer)            [(None, 73)]         0                                            \n",
            "__________________________________________________________________________________________________\n",
            "embedding (Embedding)           (None, 48, 200)      901600      input_1[0][0]                    \n",
            "__________________________________________________________________________________________________\n",
            "embedding_1 (Embedding)         (None, 73, 200)      901600      input_2[0][0]                    \n",
            "__________________________________________________________________________________________________\n",
            "lstm (LSTM)                     [(None, 200), (None, 320800      embedding[0][0]                  \n",
            "__________________________________________________________________________________________________\n",
            "lstm_1 (LSTM)                   [(None, 73, 200), (N 320800      embedding_1[0][0]                \n",
            "                                                                 lstm[0][1]                       \n",
            "                                                                 lstm[0][2]                       \n",
            "__________________________________________________________________________________________________\n",
            "dense (Dense)                   (None, 73, 4508)     906108      lstm_1[0][0]                     \n",
            "==================================================================================================\n",
            "Total params: 3,350,908\n",
            "Trainable params: 3,350,908\n",
            "Non-trainable params: 0\n",
            "__________________________________________________________________________________________________\n"
          ]
        }
      ],
      "source": [
        "\n",
        "encoder_inputs = tf.keras.layers.Input(shape=( maxlen_questions , ))\n",
        "encoder_embedding = tf.keras.layers.Embedding( VOCAB_SIZE, 200 , mask_zero=True ) (encoder_inputs)\n",
        "encoder_outputs , state_h , state_c = tf.keras.layers.LSTM( 200 , return_state=True )( encoder_embedding )\n",
        "encoder_states = [ state_h , state_c ]\n",
        "\n",
        "decoder_inputs = tf.keras.layers.Input(shape=( maxlen_answers ,  ))\n",
        "decoder_embedding = tf.keras.layers.Embedding( VOCAB_SIZE, 200 , mask_zero=True) (decoder_inputs)\n",
        "decoder_lstm = tf.keras.layers.LSTM( 200 , return_state=True , return_sequences=True )\n",
        "decoder_outputs , _ , _ = decoder_lstm ( decoder_embedding , initial_state=encoder_states )\n",
        "decoder_dense = tf.keras.layers.Dense( VOCAB_SIZE , activation=tf.keras.activations.softmax ) \n",
        "output = decoder_dense ( decoder_outputs )\n",
        "\n",
        "model = tf.keras.models.Model([encoder_inputs, decoder_inputs], output )\n",
        "model.compile(optimizer=tf.keras.optimizers.RMSprop(), loss='categorical_crossentropy')\n",
        "\n",
        "model.summary()\n"
      ]
    },
    {
      "cell_type": "markdown",
      "metadata": {
        "id": "n9g_8sR7WWf3"
      },
      "source": [
        "## 4) Training the model\n",
        "We train the model for a number of epochs with `RMSprop` optimizer and `categorical_crossentropy` loss function."
      ]
    },
    {
      "cell_type": "code",
      "execution_count": 13,
      "metadata": {
        "id": "N74NZnfo3Id-"
      },
      "outputs": [
        {
          "name": "stdout",
          "output_type": "stream",
          "text": [
            "Epoch 1/100\n",
            "21/21 [==============================] - 35s 1s/step - loss: 1.1171\n",
            "Epoch 2/100\n",
            "21/21 [==============================] - 71s 3s/step - loss: 0.9778\n",
            "Epoch 3/100\n",
            "21/21 [==============================] - 71s 3s/step - loss: 0.9477\n",
            "Epoch 4/100\n",
            "21/21 [==============================] - 70s 3s/step - loss: 0.9236\n",
            "Epoch 5/100\n",
            "21/21 [==============================] - 69s 3s/step - loss: 0.9073\n",
            "Epoch 6/100\n",
            "21/21 [==============================] - 27s 1s/step - loss: 0.8953\n",
            "Epoch 7/100\n",
            "21/21 [==============================] - 47s 2s/step - loss: 0.8855\n",
            "Epoch 8/100\n",
            "21/21 [==============================] - 66s 3s/step - loss: 0.8761\n",
            "Epoch 9/100\n",
            "21/21 [==============================] - 67s 3s/step - loss: 0.8674\n",
            "Epoch 10/100\n",
            "21/21 [==============================] - 68s 3s/step - loss: 0.8586\n",
            "Epoch 11/100\n",
            "21/21 [==============================] - 67s 3s/step - loss: 0.8499\n",
            "Epoch 12/100\n",
            "21/21 [==============================] - 68s 3s/step - loss: 0.8414\n",
            "Epoch 13/100\n",
            "21/21 [==============================] - 69s 3s/step - loss: 0.8329\n",
            "Epoch 14/100\n",
            "21/21 [==============================] - 69s 3s/step - loss: 0.8245\n",
            "Epoch 15/100\n",
            "21/21 [==============================] - 69s 3s/step - loss: 0.8160\n",
            "Epoch 16/100\n",
            "21/21 [==============================] - 70s 3s/step - loss: 0.8073\n",
            "Epoch 17/100\n",
            "21/21 [==============================] - 73s 3s/step - loss: 0.7987\n",
            "Epoch 18/100\n",
            "21/21 [==============================] - 75s 4s/step - loss: 0.7898\n",
            "Epoch 19/100\n",
            "21/21 [==============================] - 69s 3s/step - loss: 0.7814\n",
            "Epoch 20/100\n",
            "21/21 [==============================] - 69s 3s/step - loss: 0.7725\n",
            "Epoch 21/100\n",
            "21/21 [==============================] - 68s 3s/step - loss: 0.7636\n",
            "Epoch 22/100\n",
            "21/21 [==============================] - 70s 3s/step - loss: 0.7547\n",
            "Epoch 23/100\n",
            "21/21 [==============================] - 69s 3s/step - loss: 0.7456\n",
            "Epoch 24/100\n",
            "21/21 [==============================] - 70s 3s/step - loss: 0.7371\n",
            "Epoch 25/100\n",
            "21/21 [==============================] - 69s 3s/step - loss: 0.7279\n",
            "Epoch 26/100\n",
            "21/21 [==============================] - 69s 3s/step - loss: 0.7188\n",
            "Epoch 27/100\n",
            "21/21 [==============================] - 81s 4s/step - loss: 0.7103\n",
            "Epoch 28/100\n",
            "21/21 [==============================] - 36s 2s/step - loss: 0.7010\n",
            "Epoch 29/100\n",
            "21/21 [==============================] - 11s 519ms/step - loss: 0.6919\n",
            "Epoch 30/100\n",
            "21/21 [==============================] - 13s 570ms/step - loss: 0.6832\n",
            "Epoch 31/100\n",
            "21/21 [==============================] - 11s 525ms/step - loss: 0.6734\n",
            "Epoch 32/100\n",
            "21/21 [==============================] - 12s 578ms/step - loss: 0.6646\n",
            "Epoch 33/100\n",
            "21/21 [==============================] - 12s 563ms/step - loss: 0.6559\n",
            "Epoch 34/100\n",
            "21/21 [==============================] - 15s 734ms/step - loss: 0.6467\n",
            "Epoch 35/100\n",
            "21/21 [==============================] - 16s 767ms/step - loss: 0.6377\n",
            "Epoch 36/100\n",
            "21/21 [==============================] - 16s 762ms/step - loss: 0.6289\n",
            "Epoch 37/100\n",
            "21/21 [==============================] - 16s 764ms/step - loss: 0.6198\n",
            "Epoch 38/100\n",
            "21/21 [==============================] - 16s 757ms/step - loss: 0.6109\n",
            "Epoch 39/100\n",
            "21/21 [==============================] - 16s 759ms/step - loss: 0.6017\n",
            "Epoch 40/100\n",
            "21/21 [==============================] - 16s 761ms/step - loss: 0.5931\n",
            "Epoch 41/100\n",
            "21/21 [==============================] - 16s 767ms/step - loss: 0.5839\n",
            "Epoch 42/100\n",
            "21/21 [==============================] - 16s 762ms/step - loss: 0.5754\n",
            "Epoch 43/100\n",
            "21/21 [==============================] - 16s 767ms/step - loss: 0.5668\n",
            "Epoch 44/100\n",
            "21/21 [==============================] - 16s 762ms/step - loss: 0.5570\n",
            "Epoch 45/100\n",
            "21/21 [==============================] - 16s 770ms/step - loss: 0.5487\n",
            "Epoch 46/100\n",
            "21/21 [==============================] - 16s 764ms/step - loss: 0.5400\n",
            "Epoch 47/100\n",
            "21/21 [==============================] - 16s 757ms/step - loss: 0.5306\n",
            "Epoch 48/100\n",
            "21/21 [==============================] - 16s 767ms/step - loss: 0.5225\n",
            "Epoch 49/100\n",
            "21/21 [==============================] - 16s 761ms/step - loss: 0.5142\n",
            "Epoch 50/100\n",
            "21/21 [==============================] - 16s 767ms/step - loss: 0.5051\n",
            "Epoch 51/100\n",
            "21/21 [==============================] - 16s 762ms/step - loss: 0.4970\n",
            "Epoch 52/100\n",
            "21/21 [==============================] - 16s 760ms/step - loss: 0.4877\n",
            "Epoch 53/100\n",
            "21/21 [==============================] - 17s 814ms/step - loss: 0.4791\n",
            "Epoch 54/100\n",
            "21/21 [==============================] - 17s 830ms/step - loss: 0.4711\n",
            "Epoch 55/100\n",
            "21/21 [==============================] - 17s 829ms/step - loss: 0.4626\n",
            "Epoch 56/100\n",
            "21/21 [==============================] - 18s 832ms/step - loss: 0.4533\n",
            "Epoch 57/100\n",
            "21/21 [==============================] - 18s 835ms/step - loss: 0.4453\n",
            "Epoch 58/100\n",
            "21/21 [==============================] - 17s 831ms/step - loss: 0.4372\n",
            "Epoch 59/100\n",
            "21/21 [==============================] - 18s 837ms/step - loss: 0.4287\n",
            "Epoch 60/100\n",
            "21/21 [==============================] - 18s 848ms/step - loss: 0.4202\n",
            "Epoch 61/100\n",
            "21/21 [==============================] - 18s 856ms/step - loss: 0.4123\n",
            "Epoch 62/100\n",
            "21/21 [==============================] - 18s 849ms/step - loss: 0.4041\n",
            "Epoch 63/100\n",
            "21/21 [==============================] - 18s 835ms/step - loss: 0.3961\n",
            "Epoch 64/100\n",
            "21/21 [==============================] - 18s 852ms/step - loss: 0.3882\n",
            "Epoch 65/100\n",
            "21/21 [==============================] - 18s 844ms/step - loss: 0.3802\n",
            "Epoch 66/100\n",
            "21/21 [==============================] - 18s 843ms/step - loss: 0.3722\n",
            "Epoch 67/100\n",
            "21/21 [==============================] - 19s 881ms/step - loss: 0.3653\n",
            "Epoch 68/100\n",
            "21/21 [==============================] - 18s 869ms/step - loss: 0.3566\n",
            "Epoch 69/100\n",
            "21/21 [==============================] - 18s 857ms/step - loss: 0.3495\n",
            "Epoch 70/100\n",
            "21/21 [==============================] - 18s 862ms/step - loss: 0.3427\n",
            "Epoch 71/100\n",
            "21/21 [==============================] - 18s 857ms/step - loss: 0.3337\n",
            "Epoch 72/100\n",
            "21/21 [==============================] - 18s 857ms/step - loss: 0.3267\n",
            "Epoch 73/100\n",
            "21/21 [==============================] - 18s 857ms/step - loss: 0.3197\n",
            "Epoch 74/100\n",
            "21/21 [==============================] - 19s 921ms/step - loss: 0.3127\n",
            "Epoch 75/100\n",
            "21/21 [==============================] - 12s 589ms/step - loss: 0.3051\n",
            "Epoch 76/100\n",
            "21/21 [==============================] - 16s 784ms/step - loss: 0.2990\n",
            "Epoch 77/100\n",
            "21/21 [==============================] - 16s 748ms/step - loss: 0.2902\n",
            "Epoch 78/100\n",
            "21/21 [==============================] - 15s 744ms/step - loss: 0.2835\n",
            "Epoch 79/100\n",
            "21/21 [==============================] - 16s 780ms/step - loss: 0.2781\n",
            "Epoch 80/100\n",
            "21/21 [==============================] - 17s 828ms/step - loss: 0.2705\n",
            "Epoch 81/100\n",
            "21/21 [==============================] - 18s 832ms/step - loss: 0.2644\n",
            "Epoch 82/100\n",
            "21/21 [==============================] - 17s 826ms/step - loss: 0.2571\n",
            "Epoch 83/100\n",
            "21/21 [==============================] - 17s 828ms/step - loss: 0.2507\n",
            "Epoch 84/100\n",
            "21/21 [==============================] - 18s 864ms/step - loss: 0.2447\n",
            "Epoch 85/100\n",
            "21/21 [==============================] - 18s 854ms/step - loss: 0.2381\n",
            "Epoch 86/100\n",
            "21/21 [==============================] - 18s 837ms/step - loss: 0.2309\n",
            "Epoch 87/100\n",
            "21/21 [==============================] - 18s 840ms/step - loss: 0.2253\n",
            "Epoch 88/100\n",
            "21/21 [==============================] - 18s 839ms/step - loss: 0.2197\n",
            "Epoch 89/100\n",
            "21/21 [==============================] - 18s 842ms/step - loss: 0.2145\n",
            "Epoch 90/100\n",
            "21/21 [==============================] - 18s 847ms/step - loss: 0.2074\n",
            "Epoch 91/100\n",
            "21/21 [==============================] - 18s 864ms/step - loss: 0.2017\n",
            "Epoch 92/100\n",
            "21/21 [==============================] - 18s 871ms/step - loss: 0.1955\n",
            "Epoch 93/100\n",
            "21/21 [==============================] - 18s 849ms/step - loss: 0.1909\n",
            "Epoch 94/100\n",
            "21/21 [==============================] - 18s 850ms/step - loss: 0.1850\n",
            "Epoch 95/100\n",
            "21/21 [==============================] - 18s 840ms/step - loss: 0.1791\n",
            "Epoch 96/100\n",
            "21/21 [==============================] - 18s 850ms/step - loss: 0.1747\n",
            "Epoch 97/100\n",
            "21/21 [==============================] - 18s 843ms/step - loss: 0.1691\n",
            "Epoch 98/100\n",
            "21/21 [==============================] - 19s 883ms/step - loss: 0.1632\n",
            "Epoch 99/100\n",
            "21/21 [==============================] - 18s 871ms/step - loss: 0.1582\n",
            "Epoch 100/100\n",
            "21/21 [==============================] - 19s 882ms/step - loss: 0.1534\n"
          ]
        }
      ],
      "source": [
        "\n",
        "model.fit([encoder_input_data , decoder_input_data], decoder_output_data, batch_size=64, epochs=100 )\n",
        "model.save( './model/model.h5' )\n",
        "\n",
        "model_structure = model.to_json()\n",
        "with open(\"./model/model_struct.json\", \"w\") as json_file:\n",
        "    json_file.write(model_structure)\n"
      ]
    },
    {
      "cell_type": "markdown",
      "metadata": {},
      "source": []
    },
    {
      "cell_type": "markdown",
      "metadata": {},
      "source": [
        "### 4.1 Loading the pre-trained model\n"
      ]
    },
    {
      "cell_type": "code",
      "execution_count": 5,
      "metadata": {},
      "outputs": [],
      "source": [
        "# from keras.models import model_from_json\n",
        "# with open('model_struct.json', 'r') as f:\n",
        "#     model_json = f.read()\n",
        "\n",
        "# model = model_from_json(model_json)\n",
        "\n",
        "model.load_weights('model.h5')"
      ]
    },
    {
      "cell_type": "markdown",
      "metadata": {
        "id": "3sOLQr0M-lAe"
      },
      "source": [
        "## 5) Defining inference models\n",
        "We create inference models which help in predicting answers.\n",
        "\n",
        "**Encoder inference model** : Takes the question as input and outputs LSTM states ( `h` and `c` ).\n",
        "\n",
        "**Decoder inference model** : Takes in 2 inputs, one are the LSTM states ( Output of encoder model ), second are the answer input seqeunces ( ones not having the `<start>` tag ). It will output the answers for the question which we fed to the encoder model and its state values."
      ]
    },
    {
      "cell_type": "code",
      "execution_count": 6,
      "metadata": {
        "id": "1u5DE4qo3Mf2"
      },
      "outputs": [],
      "source": [
        "\n",
        "def make_inference_models():\n",
        "    \n",
        "    encoder_model = tf.keras.models.Model(encoder_inputs, encoder_states)\n",
        "    \n",
        "    decoder_state_input_h = tf.keras.layers.Input(shape=( 200 ,))\n",
        "    decoder_state_input_c = tf.keras.layers.Input(shape=( 200 ,))\n",
        "    \n",
        "    decoder_states_inputs = [decoder_state_input_h, decoder_state_input_c]\n",
        "    \n",
        "    decoder_outputs, state_h, state_c = decoder_lstm(\n",
        "        decoder_embedding , initial_state=decoder_states_inputs)\n",
        "    decoder_states = [state_h, state_c]\n",
        "    decoder_outputs = decoder_dense(decoder_outputs)\n",
        "    decoder_model = tf.keras.models.Model(\n",
        "        [decoder_inputs] + decoder_states_inputs,\n",
        "        [decoder_outputs] + decoder_states)\n",
        "    \n",
        "    return encoder_model , decoder_model\n"
      ]
    },
    {
      "cell_type": "markdown",
      "metadata": {
        "id": "rxZp0ZRy-6dA"
      },
      "source": [
        "## 6) Talking with our Chatbot\n",
        "\n",
        "First, we define a method `str_to_tokens` which converts `str` questions to Integer tokens with padding.\n"
      ]
    },
    {
      "cell_type": "code",
      "execution_count": 7,
      "metadata": {
        "id": "5P_wDD554q9O"
      },
      "outputs": [],
      "source": [
        "\n",
        "def str_to_tokens( sentence : str ):\n",
        "    # sentence = re.sub(r'[^\\w]', ' ', sentence)\n",
        "    sentence = sentence.replace('?', ' ')\n",
        "    sentence = sentence.replace('.', ' ')\n",
        "    sentence = sentence.replace(',', ' ')\n",
        "    sentence = sentence.replace('!', ' ')\n",
        "    sentence = sentence.replace('-', ' ')\n",
        "    words = sentence.lower().split()\n",
        "    tokens_list = list()\n",
        "    for word in words:\n",
        "        try:\n",
        "            tokens_list.append( tokenizer.word_index[ word ] ) \n",
        "        except:\n",
        "            a = 1\n",
        "            # print(\"=>token doesn't exist in the vocabulary\")\n",
        "    return preprocessing.sequence.pad_sequences( [tokens_list] , maxlen=maxlen_questions , padding='post')\n"
      ]
    },
    {
      "cell_type": "markdown",
      "metadata": {
        "id": "djEPrfJBmZE-"
      },
      "source": [
        "\n",
        "\n",
        "\n",
        "1.   First, we take a question as input and predict the state values using `enc_model`.\n",
        "2.   We set the state values in the decoder's LSTM.\n",
        "3.   Then, we generate a sequence which contains the `<start>` element.\n",
        "4.   We input this sequence in the `dec_model`.\n",
        "5.   We replace the `<start>` element with the element which was predicted by the `dec_model` and update the state values.\n",
        "6.   We carry out the above steps iteratively till we hit the `<end>` tag or the maximum answer length.\n",
        "\n",
        "\n",
        "\n",
        "\n",
        "\n"
      ]
    },
    {
      "cell_type": "code",
      "execution_count": 8,
      "metadata": {
        "id": "2zBmN8qB3O-e"
      },
      "outputs": [
        {
          "name": "stdout",
          "output_type": "stream",
          "text": [
            "WARNING:tensorflow:Model was constructed with shape (None, 73) for input KerasTensor(type_spec=TensorSpec(shape=(None, 73), dtype=tf.float32, name='input_2'), name='input_2', description=\"created by layer 'input_2'\"), but it was called on an input with incompatible shape (None, 1).\n",
            "hey fender man i haven't seen you since high school you still workin' at jack in the box\n",
            "no thanks\n",
            "no thanks\n",
            "no thanks\n"
          ]
        }
      ],
      "source": [
        "\n",
        "enc_model , dec_model = make_inference_models()\n",
        "\n",
        "def infer_answer(question):\n",
        "    states_values = enc_model.predict(str_to_tokens(question))\n",
        "    empty_target_seq = np.zeros( ( 1 , 1 ) )\n",
        "    empty_target_seq[0, 0] = tokenizer.word_index['start']\n",
        "    stop_condition = False\n",
        "    decoded_translation = ''\n",
        "    while not stop_condition :\n",
        "        dec_outputs , h , c = dec_model.predict([ empty_target_seq ] + states_values )\n",
        "        sampled_word_index = np.argmax( dec_outputs[0, -1, :] )\n",
        "        sampled_word = None\n",
        "        for word , index in tokenizer.word_index.items() :\n",
        "            if sampled_word_index == index :\n",
        "                decoded_translation += ' {}'.format( word )\n",
        "                sampled_word = word\n",
        "        \n",
        "        if sampled_word == 'end' or len(decoded_translation.split()) > maxlen_answers:\n",
        "            stop_condition = True\n",
        "            \n",
        "        empty_target_seq = np.zeros( ( 1 , 1 ) )  \n",
        "        empty_target_seq[ 0 , 0 ] = sampled_word_index\n",
        "        states_values = [ h , c ] \n",
        "    \n",
        "    #remove last word if \"end\"\n",
        "    dec_tr_list = decoded_translation.split()\n",
        "    last_index = len(dec_tr_list) - 1\n",
        "    if dec_tr_list[last_index] == 'end':\n",
        "        dec_tr_list.pop()\n",
        "        decoded_translation = \" \"\n",
        "        decoded_translation = decoded_translation.join(dec_tr_list)\n",
        "        # string2=\" \".join(map(str,list1))\n",
        "\n",
        "    return decoded_translation\n",
        "\n",
        "for _ in range(4):\n",
        "    answer = infer_answer(input( 'Enter question : '))\n",
        "    print(answer)\n",
        "    "
      ]
    },
    {
      "cell_type": "markdown",
      "metadata": {
        "id": "0I4BtgwsgxNk"
      },
      "source": [
        "\n",
        "## 7) Conversion to TFLite ( Optional )\n",
        "\n",
        "We can convert our seq2seq model to a TensorFlow Lite model so that we can use it on edge devices.\n"
      ]
    },
    {
      "cell_type": "code",
      "execution_count": 21,
      "metadata": {
        "id": "MOS0M0uLhxN5"
      },
      "outputs": [
        {
          "name": "stdout",
          "output_type": "stream",
          "text": [
            "\u001b[31mERROR: Could not find a version that satisfies the requirement tf-nightly (from versions: none)\u001b[0m\n",
            "\u001b[31mERROR: No matching distribution found for tf-nightly\u001b[0m\n"
          ]
        }
      ],
      "source": [
        "\n",
        "!pip install tf-nightly\n"
      ]
    },
    {
      "cell_type": "code",
      "execution_count": 22,
      "metadata": {
        "id": "wT8tyvpuhBOr"
      },
      "outputs": [
        {
          "name": "stdout",
          "output_type": "stream",
          "text": [
            "WARNING:tensorflow:Compiled the loaded model, but the compiled metrics have yet to be built. `model.compile_metrics` will be empty until you train or evaluate the model.\n"
          ]
        },
        {
          "name": "stderr",
          "output_type": "stream",
          "text": [
            "WARNING:absl:Found untraced functions such as lstm_cell_layer_call_fn, lstm_cell_layer_call_and_return_conditional_losses, lstm_cell_layer_call_fn, lstm_cell_layer_call_and_return_conditional_losses, lstm_cell_layer_call_and_return_conditional_losses while saving (showing 5 of 5). These functions will not be directly callable after loading.\n"
          ]
        },
        {
          "name": "stdout",
          "output_type": "stream",
          "text": [
            "INFO:tensorflow:Assets written to: /tmp/tmpq90q3z5u/assets\n"
          ]
        },
        {
          "name": "stderr",
          "output_type": "stream",
          "text": [
            "INFO:tensorflow:Assets written to: /tmp/tmpq90q3z5u/assets\n"
          ]
        },
        {
          "data": {
            "text/plain": [
              "6224596"
            ]
          },
          "execution_count": 22,
          "metadata": {},
          "output_type": "execute_result"
        }
      ],
      "source": [
        "\n",
        "converter = tf.lite.TFLiteConverter.from_keras_model( enc_model )\n",
        "buffer = converter.convert()\n",
        "open( 'enc_model.tflite' , 'wb' ).write( buffer )\n",
        "\n",
        "converter = tf.lite.TFLiteConverter.from_keras_model( dec_model )\n",
        "open( 'dec_model.tflite' , 'wb' ).write( buffer )\n"
      ]
    }
  ],
  "metadata": {
    "accelerator": "GPU",
    "colab": {
      "collapsed_sections": [],
      "include_colab_link": true,
      "name": "ChatBot_With_Seq2Seq.ipynb",
      "private_outputs": true,
      "provenance": [],
      "toc_visible": true
    },
    "kernelspec": {
      "display_name": "Python 3.6.13 ('py36-ml')",
      "language": "python",
      "name": "python3"
    },
    "language_info": {
      "codemirror_mode": {
        "name": "ipython",
        "version": 3
      },
      "file_extension": ".py",
      "mimetype": "text/x-python",
      "name": "python",
      "nbconvert_exporter": "python",
      "pygments_lexer": "ipython3",
      "version": "3.6.13"
    },
    "vscode": {
      "interpreter": {
        "hash": "2b7f2872f4f1ec2fd28929a0638899c7f55c22668ed7d8a7bfdec2e5acd04ee2"
      }
    }
  },
  "nbformat": 4,
  "nbformat_minor": 0
}
