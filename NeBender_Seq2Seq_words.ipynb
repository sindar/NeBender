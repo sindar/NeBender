{
  "cells": [
    {
      "cell_type": "markdown",
      "metadata": {
        "id": "BhwN0XQX4Icu"
      },
      "source": [
        "# NeBender chatbot using Seq2Seq LSTM models\n",
        "This notebook is a fork of the - https://colab.research.google.com/github/sindar/test-notebooks/blob/master/ChatBot_With_Seq2Seq.ipynb\n",
        "\n",
        "In this notebook, we will assemble a seq2seq LSTM model using Keras Functional API to create a working chatbot trained on the dataset based on dialogues of the robor Bender from Futurama.\n"
      ]
    },
    {
      "cell_type": "markdown",
      "metadata": {
        "id": "tm5g4WIG5ym2"
      },
      "source": [
        "## 1) Importing the packages\n",
        "\n",
        "We will import [TensorFlow](https://www.tensorflow.org) and our beloved [Keras](https://www.tensorflow.org/guide/keras). Also, we import other modules which help in defining model layers.\n",
        "\n",
        "\n",
        "\n",
        "\n"
      ]
    },
    {
      "cell_type": "code",
      "execution_count": 1,
      "metadata": {
        "id": "UgZHR8TO0lFF"
      },
      "outputs": [],
      "source": [
        "\n",
        "import numpy as np\n",
        "import tensorflow as tf\n",
        "import pickle\n",
        "from tensorflow.keras import layers , activations , models , preprocessing\n"
      ]
    },
    {
      "cell_type": "markdown",
      "metadata": {
        "id": "sxiGOLldKOQD"
      },
      "source": [
        "## 2) Preprocessing the data"
      ]
    },
    {
      "cell_type": "markdown",
      "metadata": {
        "id": "nF1mDKD_R6Os"
      },
      "source": [
        "### A) Reading the data from the files\n",
        "\n",
        "We parse each of the `.yaml` files.\n",
        "\n",
        "*   Concatenate two or more sentences if the answer has two or more of them.\n",
        "*   Remove unwanted data types which are produced while parsing the data.\n",
        "*   Append `<START>` and `<END>` to all the `answers`.\n",
        "*   Create a `Tokenizer` and load the whole vocabulary ( `questions` + `answers` ) into it.\n",
        "\n",
        "\n",
        "\n"
      ]
    },
    {
      "cell_type": "code",
      "execution_count": 2,
      "metadata": {
        "id": "RzTBhga6MiV7"
      },
      "outputs": [
        {
          "name": "stdout",
          "output_type": "stream",
          "text": [
            "VOCAB SIZE : 5272\n"
          ]
        }
      ],
      "source": [
        "\n",
        "from tensorflow.keras import preprocessing , utils\n",
        "import os\n",
        "import yaml\n",
        "\n",
        "dir_path = 'bender_nlp/episodes'\n",
        "files_list = os.listdir(dir_path + os.sep)\n",
        "\n",
        "questions = list()\n",
        "answers = list()\n",
        "\n",
        "for filepath in files_list:\n",
        "    stream = open( dir_path + os.sep + filepath , 'rb')\n",
        "    docs = yaml.safe_load(stream)\n",
        "    conversations = docs['conversations']\n",
        "    for con in conversations:\n",
        "        if len( con ) > 2 :\n",
        "            questions.append(con[0])\n",
        "            replies = con[ 1 : ]\n",
        "            ans = ''\n",
        "            for rep in replies:\n",
        "                ans += ' ' + rep\n",
        "            answers.append( ans )\n",
        "        elif len( con )> 1:\n",
        "            questions.append(con[0])\n",
        "            answers.append(con[1])\n",
        "\n",
        "# with open(\"questions.txt\", \"w\") as file:\n",
        "#     # file.writelines(questions)\n",
        "#     for question in questions:\n",
        "#         file.write(question + '\\n')\n",
        "\n",
        "\n",
        "answers_with_tags = list()\n",
        "for i in range( len( answers ) ):\n",
        "    if type( answers[i] ) == str:\n",
        "        answers_with_tags.append( answers[i] )\n",
        "    else:\n",
        "        questions.pop( i )\n",
        "\n",
        "answers = list()\n",
        "for i in range( len( answers_with_tags ) ) :\n",
        "    answers.append( '<START> ' + answers_with_tags[i] + ' <END>' )\n",
        "\n",
        "tokenizer = preprocessing.text.Tokenizer()\n",
        "tokenizer.fit_on_texts( questions + answers )\n",
        "VOCAB_SIZE = len( tokenizer.word_index )+1\n",
        "print( 'VOCAB SIZE : {}'.format( VOCAB_SIZE ))\n"
      ]
    },
    {
      "cell_type": "markdown",
      "metadata": {
        "id": "mzsaO1YvS-M8"
      },
      "source": [
        "\n",
        "### B) Preparing data for Seq2Seq model\n",
        "\n",
        "Our model requires three arrays namely `encoder_input_data`, `decoder_input_data` and `decoder_output_data`.\n",
        "\n",
        "For `encoder_input_data` :\n",
        "* Tokenize the `questions`. Pad them to their maximum length.\n",
        "\n",
        "For `decoder_input_data` :\n",
        "* Tokenize the `answers`. Pad them to their maximum length.\n",
        "\n",
        "For `decoder_output_data` :\n",
        "\n",
        "* Tokenize the `answers`. Remove the first element from all the `tokenized_answers`. This is the `<START>` element which we added earlier.\n",
        "\n"
      ]
    },
    {
      "cell_type": "code",
      "execution_count": 3,
      "metadata": {
        "id": "a5AD9ooQKc33"
      },
      "outputs": [
        {
          "name": "stdout",
          "output_type": "stream",
          "text": [
            "(1614, 51) 51\n",
            "(1614, 73) 73\n",
            "(1614, 73, 5272)\n"
          ]
        }
      ],
      "source": [
        "\n",
        "from gensim.models import Word2Vec\n",
        "import re\n",
        "\n",
        "vocab = []\n",
        "for word in tokenizer.word_index:\n",
        "    vocab.append( word )\n",
        "\n",
        "def tokenize( sentences ):\n",
        "    tokens_list = []\n",
        "    vocabulary = []\n",
        "    for sentence in sentences:\n",
        "        sentence = sentence.lower()\n",
        "        sentence = re.sub( '[^a-zA-Z]', ' ', sentence )\n",
        "        tokens = sentence.split()\n",
        "        vocabulary += tokens\n",
        "        tokens_list.append( tokens )\n",
        "    return tokens_list , vocabulary\n",
        "\n",
        "#p = tokenize( questions + answers )\n",
        "#model = Word2Vec( p[ 0 ] ) \n",
        "\n",
        "#embedding_matrix = np.zeros( ( VOCAB_SIZE , 100 ) )\n",
        "#for i in range( len( tokenizer.word_index ) ):\n",
        "    #embedding_matrix[ i ] = model[ vocab[i] ]\n",
        "\n",
        "# encoder_input_data\n",
        "tokenized_questions = tokenizer.texts_to_sequences( questions )\n",
        "maxlen_questions = max( [ len(x) for x in tokenized_questions ] )\n",
        "padded_questions = preprocessing.sequence.pad_sequences( tokenized_questions , maxlen=maxlen_questions , padding='post' )\n",
        "encoder_input_data = np.array( padded_questions )\n",
        "print( encoder_input_data.shape , maxlen_questions )\n",
        "\n",
        "# decoder_input_data\n",
        "tokenized_answers = tokenizer.texts_to_sequences( answers )\n",
        "maxlen_answers = max( [ len(x) for x in tokenized_answers ] )\n",
        "padded_answers = preprocessing.sequence.pad_sequences( tokenized_answers , maxlen=maxlen_answers , padding='post' )\n",
        "decoder_input_data = np.array( padded_answers )\n",
        "print( decoder_input_data.shape , maxlen_answers )\n",
        "\n",
        "# decoder_output_data\n",
        "tokenized_answers = tokenizer.texts_to_sequences( answers )\n",
        "for i in range(len(tokenized_answers)) :\n",
        "    tokenized_answers[i] = tokenized_answers[i][1:]\n",
        "padded_answers = preprocessing.sequence.pad_sequences( tokenized_answers , maxlen=maxlen_answers , padding='post' )\n",
        "onehot_answers = utils.to_categorical( padded_answers , VOCAB_SIZE )\n",
        "decoder_output_data = np.array( onehot_answers )\n",
        "print( decoder_output_data.shape )\n"
      ]
    },
    {
      "cell_type": "markdown",
      "metadata": {
        "id": "4SwY3T139l19"
      },
      "source": [
        "## 3) Defining the Encoder-Decoder model\n",
        "The model will have Embedding, LSTM and Dense layers. The basic configuration is as follows.\n",
        "\n",
        "\n",
        "*   2 Input Layers : One for `encoder_input_data` and another for `decoder_input_data`.\n",
        "*   Embedding layer : For converting token vectors to fix sized dense vectors. **( Note :  Don't forget the `mask_zero=True` argument here )**\n",
        "*   LSTM layer : Provide access to Long-Short Term cells.\n",
        "\n",
        "Working : \n",
        "\n",
        "1.   The `encoder_input_data` comes in the Embedding layer (  `encoder_embedding` ). \n",
        "2.   The output of the Embedding layer goes to the LSTM cell which produces 2 state vectors ( `h` and `c` which are `encoder_states` )\n",
        "3.   These states are set in the LSTM cell of the decoder.\n",
        "4.   The decoder_input_data comes in through the Embedding layer.\n",
        "5.   The Embeddings goes in LSTM cell ( which had the states ) to produce seqeunces.\n",
        "\n",
        "\n",
        "\n",
        "<center><img style=\"float: center;\" src=\"https://cdn-images-1.medium.com/max/1600/1*bnRvZDDapHF8Gk8soACtCQ.gif\"></center>\n",
        "\n",
        "\n",
        "Image credits to [Hackernoon](https://hackernoon.com/tutorial-3-what-is-seq2seq-for-text-summarization-and-why-68ebaa644db0).\n",
        "\n",
        "\n",
        "\n",
        "\n",
        "\n",
        "\n",
        "\n",
        "\n"
      ]
    },
    {
      "cell_type": "code",
      "execution_count": 4,
      "metadata": {
        "id": "-gUYtOwv21rt"
      },
      "outputs": [
        {
          "name": "stdout",
          "output_type": "stream",
          "text": [
            "Model: \"model\"\n",
            "__________________________________________________________________________________________________\n",
            "Layer (type)                    Output Shape         Param #     Connected to                     \n",
            "==================================================================================================\n",
            "input_1 (InputLayer)            [(None, 51)]         0                                            \n",
            "__________________________________________________________________________________________________\n",
            "input_2 (InputLayer)            [(None, 73)]         0                                            \n",
            "__________________________________________________________________________________________________\n",
            "embedding (Embedding)           (None, 51, 200)      1054400     input_1[0][0]                    \n",
            "__________________________________________________________________________________________________\n",
            "embedding_1 (Embedding)         (None, 73, 200)      1054400     input_2[0][0]                    \n",
            "__________________________________________________________________________________________________\n",
            "lstm (LSTM)                     [(None, 200), (None, 320800      embedding[0][0]                  \n",
            "__________________________________________________________________________________________________\n",
            "lstm_1 (LSTM)                   [(None, 73, 200), (N 320800      embedding_1[0][0]                \n",
            "                                                                 lstm[0][1]                       \n",
            "                                                                 lstm[0][2]                       \n",
            "__________________________________________________________________________________________________\n",
            "dense (Dense)                   (None, 73, 5272)     1059672     lstm_1[0][0]                     \n",
            "==================================================================================================\n",
            "Total params: 3,810,072\n",
            "Trainable params: 3,810,072\n",
            "Non-trainable params: 0\n",
            "__________________________________________________________________________________________________\n"
          ]
        }
      ],
      "source": [
        "\n",
        "output_dim = 200\n",
        "encoder_inputs = tf.keras.layers.Input(shape=( maxlen_questions , ))\n",
        "encoder_embedding = tf.keras.layers.Embedding( VOCAB_SIZE, output_dim , mask_zero=True ) (encoder_inputs)\n",
        "encoder_outputs , state_h , state_c = tf.keras.layers.LSTM( output_dim , return_state=True )( encoder_embedding )\n",
        "encoder_states = [ state_h , state_c ]\n",
        "\n",
        "decoder_inputs = tf.keras.layers.Input(shape=( maxlen_answers ,  ))\n",
        "decoder_embedding = tf.keras.layers.Embedding( VOCAB_SIZE, output_dim , mask_zero=True) (decoder_inputs)\n",
        "decoder_lstm = tf.keras.layers.LSTM( output_dim , return_state=True , return_sequences=True )\n",
        "decoder_outputs , _ , _ = decoder_lstm ( decoder_embedding , initial_state=encoder_states )\n",
        "decoder_dense = tf.keras.layers.Dense( VOCAB_SIZE , activation=tf.keras.activations.softmax ) \n",
        "output = decoder_dense ( decoder_outputs )\n",
        "\n",
        "model = tf.keras.models.Model([encoder_inputs, decoder_inputs], output )\n",
        "model.compile(optimizer=tf.keras.optimizers.RMSprop(), loss='categorical_crossentropy')\n",
        "\n",
        "model.summary()\n"
      ]
    },
    {
      "cell_type": "markdown",
      "metadata": {
        "id": "n9g_8sR7WWf3"
      },
      "source": [
        "## 4) Training the model\n",
        "We train the model for a number of epochs with `RMSprop` optimizer and `categorical_crossentropy` loss function."
      ]
    },
    {
      "cell_type": "code",
      "execution_count": 5,
      "metadata": {
        "id": "N74NZnfo3Id-"
      },
      "outputs": [
        {
          "name": "stdout",
          "output_type": "stream",
          "text": [
            "Epoch 1/200\n",
            "26/26 [==============================] - 101s 3s/step - loss: 1.1252\n",
            "Epoch 2/200\n",
            "26/26 [==============================] - 87s 3s/step - loss: 0.9904\n",
            "Epoch 3/200\n",
            "26/26 [==============================] - 85s 3s/step - loss: 0.9563\n",
            "Epoch 4/200\n",
            "26/26 [==============================] - 80s 3s/step - loss: 0.9332\n",
            "Epoch 5/200\n",
            "26/26 [==============================] - 76s 3s/step - loss: 0.9187\n",
            "Epoch 6/200\n",
            "26/26 [==============================] - 75s 3s/step - loss: 0.9072\n",
            "Epoch 7/200\n",
            "26/26 [==============================] - 76s 3s/step - loss: 0.8970\n",
            "Epoch 8/200\n",
            "26/26 [==============================] - 75s 3s/step - loss: 0.8868\n",
            "Epoch 9/200\n",
            "26/26 [==============================] - 75s 3s/step - loss: 0.8775\n",
            "Epoch 10/200\n",
            "26/26 [==============================] - 76s 3s/step - loss: 0.8685\n",
            "Epoch 11/200\n",
            "26/26 [==============================] - 76s 3s/step - loss: 0.8599\n",
            "Epoch 12/200\n",
            "26/26 [==============================] - 76s 3s/step - loss: 0.8509\n",
            "Epoch 13/200\n",
            "26/26 [==============================] - 75s 3s/step - loss: 0.8420\n",
            "Epoch 14/200\n",
            "26/26 [==============================] - 75s 3s/step - loss: 0.8331\n",
            "Epoch 15/200\n",
            "26/26 [==============================] - 76s 3s/step - loss: 0.8239\n",
            "Epoch 16/200\n",
            "26/26 [==============================] - 76s 3s/step - loss: 0.8148\n",
            "Epoch 17/200\n",
            "26/26 [==============================] - 77s 3s/step - loss: 0.8057\n",
            "Epoch 18/200\n",
            "26/26 [==============================] - 79s 3s/step - loss: 0.7968\n",
            "Epoch 19/200\n",
            "26/26 [==============================] - 79s 3s/step - loss: 0.7878\n",
            "Epoch 20/200\n",
            "26/26 [==============================] - 79s 3s/step - loss: 0.7784\n",
            "Epoch 21/200\n",
            "26/26 [==============================] - 79s 3s/step - loss: 0.7691\n",
            "Epoch 22/200\n",
            "26/26 [==============================] - 80s 3s/step - loss: 0.7603\n",
            "Epoch 23/200\n",
            "26/26 [==============================] - 73s 3s/step - loss: 0.7508\n",
            "Epoch 24/200\n",
            "26/26 [==============================] - 16s 640ms/step - loss: 0.7412\n",
            "Epoch 25/200\n",
            "26/26 [==============================] - 16s 628ms/step - loss: 0.7320\n",
            "Epoch 26/200\n",
            "26/26 [==============================] - 16s 617ms/step - loss: 0.7218\n",
            "Epoch 27/200\n",
            "26/26 [==============================] - 16s 635ms/step - loss: 0.7125\n",
            "Epoch 28/200\n",
            "26/26 [==============================] - 16s 624ms/step - loss: 0.7029\n",
            "Epoch 29/200\n",
            "26/26 [==============================] - 18s 680ms/step - loss: 0.6935\n",
            "Epoch 30/200\n",
            "26/26 [==============================] - 18s 684ms/step - loss: 0.6839\n",
            "Epoch 31/200\n",
            "26/26 [==============================] - 18s 711ms/step - loss: 0.6743\n",
            "Epoch 32/200\n",
            "26/26 [==============================] - 18s 718ms/step - loss: 0.6650\n",
            "Epoch 33/200\n",
            "26/26 [==============================] - 18s 698ms/step - loss: 0.6553\n",
            "Epoch 34/200\n",
            "26/26 [==============================] - 22s 826ms/step - loss: 0.6458\n",
            "Epoch 35/200\n",
            "26/26 [==============================] - 21s 820ms/step - loss: 0.6372\n",
            "Epoch 36/200\n",
            "26/26 [==============================] - 22s 827ms/step - loss: 0.6275\n",
            "Epoch 37/200\n",
            "26/26 [==============================] - 22s 825ms/step - loss: 0.6182\n",
            "Epoch 38/200\n",
            "26/26 [==============================] - 26s 989ms/step - loss: 0.6096\n",
            "Epoch 39/200\n",
            "26/26 [==============================] - 24s 922ms/step - loss: 0.5998\n",
            "Epoch 40/200\n",
            "26/26 [==============================] - 23s 893ms/step - loss: 0.5908\n",
            "Epoch 41/200\n",
            "26/26 [==============================] - 23s 898ms/step - loss: 0.5814\n",
            "Epoch 42/200\n",
            "26/26 [==============================] - 74s 3s/step - loss: 0.5724\n",
            "Epoch 43/200\n",
            "26/26 [==============================] - 85s 3s/step - loss: 0.5630\n",
            "Epoch 44/200\n",
            "26/26 [==============================] - 85s 3s/step - loss: 0.5535\n",
            "Epoch 45/200\n",
            "26/26 [==============================] - 80s 3s/step - loss: 0.5443\n",
            "Epoch 46/200\n",
            "26/26 [==============================] - 79s 3s/step - loss: 0.5358\n",
            "Epoch 47/200\n",
            "26/26 [==============================] - 76s 3s/step - loss: 0.5266\n",
            "Epoch 48/200\n",
            "26/26 [==============================] - 76s 3s/step - loss: 0.5170\n",
            "Epoch 49/200\n",
            "26/26 [==============================] - 76s 3s/step - loss: 0.5084\n",
            "Epoch 50/200\n",
            "26/26 [==============================] - 77s 3s/step - loss: 0.4990\n",
            "Epoch 51/200\n",
            "26/26 [==============================] - 77s 3s/step - loss: 0.4898\n",
            "Epoch 52/200\n",
            "26/26 [==============================] - 77s 3s/step - loss: 0.4805\n",
            "Epoch 53/200\n",
            "26/26 [==============================] - 77s 3s/step - loss: 0.4717\n",
            "Epoch 54/200\n",
            "26/26 [==============================] - 77s 3s/step - loss: 0.4623\n",
            "Epoch 55/200\n",
            "26/26 [==============================] - 77s 3s/step - loss: 0.4545\n",
            "Epoch 56/200\n",
            "26/26 [==============================] - 77s 3s/step - loss: 0.4444\n",
            "Epoch 57/200\n",
            "26/26 [==============================] - 77s 3s/step - loss: 0.4356\n",
            "Epoch 58/200\n",
            "26/26 [==============================] - 77s 3s/step - loss: 0.4269\n",
            "Epoch 59/200\n",
            "26/26 [==============================] - 76s 3s/step - loss: 0.4179\n",
            "Epoch 60/200\n",
            "26/26 [==============================] - 77s 3s/step - loss: 0.4095\n",
            "Epoch 61/200\n",
            "26/26 [==============================] - 77s 3s/step - loss: 0.4006\n",
            "Epoch 62/200\n",
            "26/26 [==============================] - 77s 3s/step - loss: 0.3924\n",
            "Epoch 63/200\n",
            "26/26 [==============================] - 77s 3s/step - loss: 0.3837\n",
            "Epoch 64/200\n",
            "26/26 [==============================] - 76s 3s/step - loss: 0.3753\n",
            "Epoch 65/200\n",
            "26/26 [==============================] - 74s 3s/step - loss: 0.3667\n",
            "Epoch 66/200\n",
            "26/26 [==============================] - 16s 616ms/step - loss: 0.3590\n",
            "Epoch 67/200\n",
            "26/26 [==============================] - 17s 647ms/step - loss: 0.3509\n",
            "Epoch 68/200\n",
            "26/26 [==============================] - 16s 624ms/step - loss: 0.3424\n",
            "Epoch 69/200\n",
            "26/26 [==============================] - 16s 622ms/step - loss: 0.3340\n",
            "Epoch 70/200\n",
            "26/26 [==============================] - 17s 650ms/step - loss: 0.3260\n",
            "Epoch 71/200\n",
            "26/26 [==============================] - 17s 667ms/step - loss: 0.3183\n",
            "Epoch 72/200\n",
            "26/26 [==============================] - 16s 633ms/step - loss: 0.3109\n",
            "Epoch 73/200\n",
            "26/26 [==============================] - 17s 668ms/step - loss: 0.3029\n",
            "Epoch 74/200\n",
            "26/26 [==============================] - 17s 656ms/step - loss: 0.2951\n",
            "Epoch 75/200\n",
            "26/26 [==============================] - 18s 663ms/step - loss: 0.2875\n",
            "Epoch 76/200\n",
            "26/26 [==============================] - 17s 669ms/step - loss: 0.2804\n",
            "Epoch 77/200\n",
            "26/26 [==============================] - 17s 669ms/step - loss: 0.2734\n",
            "Epoch 78/200\n",
            "26/26 [==============================] - 18s 673ms/step - loss: 0.2656\n",
            "Epoch 79/200\n",
            "26/26 [==============================] - 20s 765ms/step - loss: 0.2587\n",
            "Epoch 80/200\n",
            "26/26 [==============================] - 24s 905ms/step - loss: 0.2523\n",
            "Epoch 81/200\n",
            "26/26 [==============================] - 23s 891ms/step - loss: 0.2445\n",
            "Epoch 82/200\n",
            "26/26 [==============================] - 23s 895ms/step - loss: 0.2383\n",
            "Epoch 83/200\n",
            "26/26 [==============================] - 23s 902ms/step - loss: 0.2317\n",
            "Epoch 84/200\n",
            "26/26 [==============================] - 23s 894ms/step - loss: 0.2245\n",
            "Epoch 85/200\n",
            "26/26 [==============================] - 23s 897ms/step - loss: 0.2180\n",
            "Epoch 86/200\n",
            "26/26 [==============================] - 23s 891ms/step - loss: 0.2118\n",
            "Epoch 87/200\n",
            "26/26 [==============================] - 23s 900ms/step - loss: 0.2055\n",
            "Epoch 88/200\n",
            "26/26 [==============================] - 23s 899ms/step - loss: 0.1996\n",
            "Epoch 89/200\n",
            "26/26 [==============================] - 23s 894ms/step - loss: 0.1934\n",
            "Epoch 90/200\n",
            "26/26 [==============================] - 24s 904ms/step - loss: 0.1877\n",
            "Epoch 91/200\n",
            "26/26 [==============================] - 24s 915ms/step - loss: 0.1815\n",
            "Epoch 92/200\n",
            "26/26 [==============================] - 23s 903ms/step - loss: 0.1752\n",
            "Epoch 93/200\n",
            "26/26 [==============================] - 23s 900ms/step - loss: 0.1699\n",
            "Epoch 94/200\n",
            "26/26 [==============================] - 24s 902ms/step - loss: 0.1645\n",
            "Epoch 95/200\n",
            "26/26 [==============================] - 23s 899ms/step - loss: 0.1591\n",
            "Epoch 96/200\n",
            "26/26 [==============================] - 24s 933ms/step - loss: 0.1538\n",
            "Epoch 97/200\n",
            "26/26 [==============================] - 24s 916ms/step - loss: 0.1482\n",
            "Epoch 98/200\n",
            "26/26 [==============================] - 24s 910ms/step - loss: 0.1432\n",
            "Epoch 99/200\n",
            "26/26 [==============================] - 24s 916ms/step - loss: 0.1385\n",
            "Epoch 100/200\n",
            "26/26 [==============================] - 24s 931ms/step - loss: 0.1332\n",
            "Epoch 101/200\n",
            "26/26 [==============================] - 25s 958ms/step - loss: 0.1281\n",
            "Epoch 102/200\n",
            "26/26 [==============================] - 24s 931ms/step - loss: 0.1233\n",
            "Epoch 103/200\n",
            "26/26 [==============================] - 24s 928ms/step - loss: 0.1197\n",
            "Epoch 104/200\n",
            "26/26 [==============================] - 24s 922ms/step - loss: 0.1148\n",
            "Epoch 105/200\n",
            "26/26 [==============================] - 24s 923ms/step - loss: 0.1110\n",
            "Epoch 106/200\n",
            "26/26 [==============================] - 24s 934ms/step - loss: 0.1068\n",
            "Epoch 107/200\n",
            "26/26 [==============================] - 25s 943ms/step - loss: 0.1018\n",
            "Epoch 108/200\n",
            "26/26 [==============================] - 24s 935ms/step - loss: 0.0982\n",
            "Epoch 109/200\n",
            "26/26 [==============================] - 24s 924ms/step - loss: 0.0947\n",
            "Epoch 110/200\n",
            "26/26 [==============================] - 24s 937ms/step - loss: 0.0902\n",
            "Epoch 111/200\n",
            "26/26 [==============================] - 26s 980ms/step - loss: 0.0863\n",
            "Epoch 112/200\n",
            "26/26 [==============================] - 25s 965ms/step - loss: 0.0832\n",
            "Epoch 113/200\n",
            "26/26 [==============================] - 24s 930ms/step - loss: 0.0794\n",
            "Epoch 114/200\n",
            "26/26 [==============================] - 23s 895ms/step - loss: 0.0768\n",
            "Epoch 115/200\n",
            "26/26 [==============================] - 24s 904ms/step - loss: 0.0725\n",
            "Epoch 116/200\n",
            "26/26 [==============================] - 24s 904ms/step - loss: 0.0695\n",
            "Epoch 117/200\n",
            "26/26 [==============================] - 24s 913ms/step - loss: 0.0666\n",
            "Epoch 118/200\n",
            "26/26 [==============================] - 24s 936ms/step - loss: 0.0636\n",
            "Epoch 119/200\n",
            "26/26 [==============================] - 24s 910ms/step - loss: 0.0604\n",
            "Epoch 120/200\n",
            "26/26 [==============================] - 24s 930ms/step - loss: 0.0577\n",
            "Epoch 121/200\n",
            "26/26 [==============================] - 24s 912ms/step - loss: 0.0556\n",
            "Epoch 122/200\n",
            "26/26 [==============================] - 24s 923ms/step - loss: 0.0528\n",
            "Epoch 123/200\n",
            "26/26 [==============================] - 25s 946ms/step - loss: 0.0497\n",
            "Epoch 124/200\n",
            "26/26 [==============================] - 24s 926ms/step - loss: 0.0476\n",
            "Epoch 125/200\n",
            "26/26 [==============================] - 24s 928ms/step - loss: 0.0453\n",
            "Epoch 126/200\n",
            "26/26 [==============================] - 24s 924ms/step - loss: 0.0430\n",
            "Epoch 127/200\n",
            "26/26 [==============================] - 24s 925ms/step - loss: 0.0410\n",
            "Epoch 128/200\n",
            "26/26 [==============================] - 25s 949ms/step - loss: 0.0388\n",
            "Epoch 129/200\n",
            "26/26 [==============================] - 24s 939ms/step - loss: 0.0369\n",
            "Epoch 130/200\n",
            "26/26 [==============================] - 24s 929ms/step - loss: 0.0348\n",
            "Epoch 131/200\n",
            "26/26 [==============================] - 24s 933ms/step - loss: 0.0332\n",
            "Epoch 132/200\n",
            "26/26 [==============================] - 24s 927ms/step - loss: 0.0314\n",
            "Epoch 133/200\n",
            "26/26 [==============================] - 25s 961ms/step - loss: 0.0297\n",
            "Epoch 134/200\n",
            "26/26 [==============================] - 25s 948ms/step - loss: 0.0281\n",
            "Epoch 135/200\n",
            "26/26 [==============================] - 24s 933ms/step - loss: 0.0266\n",
            "Epoch 136/200\n",
            "26/26 [==============================] - 25s 941ms/step - loss: 0.0251\n",
            "Epoch 137/200\n",
            "26/26 [==============================] - 24s 931ms/step - loss: 0.0235\n",
            "Epoch 138/200\n",
            "26/26 [==============================] - 25s 964ms/step - loss: 0.0224\n",
            "Epoch 139/200\n",
            "26/26 [==============================] - 25s 986ms/step - loss: 0.0214\n",
            "Epoch 140/200\n",
            "26/26 [==============================] - 24s 933ms/step - loss: 0.0196\n",
            "Epoch 141/200\n",
            "26/26 [==============================] - 24s 907ms/step - loss: 0.0191\n",
            "Epoch 142/200\n",
            "26/26 [==============================] - 24s 906ms/step - loss: 0.0175\n",
            "Epoch 143/200\n",
            "26/26 [==============================] - 24s 904ms/step - loss: 0.0168\n",
            "Epoch 144/200\n",
            "26/26 [==============================] - 25s 946ms/step - loss: 0.0158\n",
            "Epoch 145/200\n",
            "26/26 [==============================] - 24s 920ms/step - loss: 0.0149\n",
            "Epoch 146/200\n",
            "26/26 [==============================] - 24s 910ms/step - loss: 0.0138\n",
            "Epoch 147/200\n",
            "26/26 [==============================] - 24s 912ms/step - loss: 0.0130\n",
            "Epoch 148/200\n",
            "26/26 [==============================] - 24s 920ms/step - loss: 0.0122\n",
            "Epoch 149/200\n",
            "26/26 [==============================] - 24s 935ms/step - loss: 0.0117\n",
            "Epoch 150/200\n",
            "26/26 [==============================] - 24s 933ms/step - loss: 0.0114\n",
            "Epoch 151/200\n",
            "26/26 [==============================] - 24s 924ms/step - loss: 0.0103\n",
            "Epoch 152/200\n",
            "26/26 [==============================] - 24s 924ms/step - loss: 0.0096\n",
            "Epoch 153/200\n",
            "26/26 [==============================] - 24s 931ms/step - loss: 0.0093\n",
            "Epoch 154/200\n",
            "26/26 [==============================] - 26s 1s/step - loss: 0.0086\n",
            "Epoch 155/200\n",
            "26/26 [==============================] - 22s 863ms/step - loss: 0.0079\n",
            "Epoch 156/200\n",
            "26/26 [==============================] - 24s 905ms/step - loss: 0.0076\n",
            "Epoch 157/200\n",
            "26/26 [==============================] - 23s 899ms/step - loss: 0.0074\n",
            "Epoch 158/200\n",
            "26/26 [==============================] - 24s 904ms/step - loss: 0.0070\n",
            "Epoch 159/200\n",
            "26/26 [==============================] - 23s 899ms/step - loss: 0.0065\n",
            "Epoch 160/200\n",
            "26/26 [==============================] - 24s 919ms/step - loss: 0.0063\n",
            "Epoch 161/200\n",
            "26/26 [==============================] - 24s 910ms/step - loss: 0.0055\n",
            "Epoch 162/200\n",
            "26/26 [==============================] - 24s 914ms/step - loss: 0.0055\n",
            "Epoch 163/200\n",
            "26/26 [==============================] - 24s 910ms/step - loss: 0.0052\n",
            "Epoch 164/200\n",
            "26/26 [==============================] - 24s 912ms/step - loss: 0.0049\n",
            "Epoch 165/200\n",
            "26/26 [==============================] - 24s 921ms/step - loss: 0.0044\n",
            "Epoch 166/200\n",
            "26/26 [==============================] - 24s 938ms/step - loss: 0.0043\n",
            "Epoch 167/200\n",
            "26/26 [==============================] - 25s 943ms/step - loss: 0.0042\n",
            "Epoch 168/200\n",
            "26/26 [==============================] - 26s 992ms/step - loss: 0.0038\n",
            "Epoch 169/200\n",
            "26/26 [==============================] - 24s 912ms/step - loss: 0.0037\n",
            "Epoch 170/200\n",
            "26/26 [==============================] - 24s 921ms/step - loss: 0.0034\n",
            "Epoch 171/200\n",
            "26/26 [==============================] - 24s 933ms/step - loss: 0.0033\n",
            "Epoch 172/200\n",
            "26/26 [==============================] - 24s 930ms/step - loss: 0.0029\n",
            "Epoch 173/200\n",
            "26/26 [==============================] - 24s 933ms/step - loss: 0.0031\n",
            "Epoch 174/200\n",
            "26/26 [==============================] - 24s 918ms/step - loss: 0.0028\n",
            "Epoch 175/200\n",
            "26/26 [==============================] - 24s 925ms/step - loss: 0.0028\n",
            "Epoch 176/200\n",
            "26/26 [==============================] - 25s 948ms/step - loss: 0.0024\n",
            "Epoch 177/200\n",
            "26/26 [==============================] - 24s 936ms/step - loss: 0.0024\n",
            "Epoch 178/200\n",
            "26/26 [==============================] - 24s 932ms/step - loss: 0.0024\n",
            "Epoch 179/200\n",
            "26/26 [==============================] - 24s 935ms/step - loss: 0.0025\n",
            "Epoch 180/200\n",
            "26/26 [==============================] - 24s 929ms/step - loss: 0.0020\n",
            "Epoch 181/200\n",
            "26/26 [==============================] - 22s 859ms/step - loss: 0.0019\n",
            "Epoch 182/200\n",
            "26/26 [==============================] - 24s 929ms/step - loss: 0.0019\n",
            "Epoch 183/200\n",
            "26/26 [==============================] - 21s 791ms/step - loss: 0.0018\n",
            "Epoch 184/200\n",
            "26/26 [==============================] - 21s 822ms/step - loss: 0.0020\n",
            "Epoch 185/200\n",
            "26/26 [==============================] - 24s 906ms/step - loss: 0.0016\n",
            "Epoch 186/200\n",
            "26/26 [==============================] - 23s 897ms/step - loss: 0.0015\n",
            "Epoch 187/200\n",
            "26/26 [==============================] - 25s 968ms/step - loss: 0.0015\n",
            "Epoch 188/200\n",
            "26/26 [==============================] - 24s 920ms/step - loss: 0.0016\n",
            "Epoch 189/200\n",
            "26/26 [==============================] - 23s 899ms/step - loss: 0.0013\n",
            "Epoch 190/200\n",
            "26/26 [==============================] - 23s 893ms/step - loss: 0.0015\n",
            "Epoch 191/200\n",
            "26/26 [==============================] - 23s 896ms/step - loss: 0.0013\n",
            "Epoch 192/200\n",
            "26/26 [==============================] - 24s 905ms/step - loss: 0.0011\n",
            "Epoch 193/200\n",
            "26/26 [==============================] - 24s 933ms/step - loss: 0.0011\n",
            "Epoch 194/200\n",
            "26/26 [==============================] - 24s 916ms/step - loss: 0.0011\n",
            "Epoch 195/200\n",
            "26/26 [==============================] - 24s 910ms/step - loss: 0.0013\n",
            "Epoch 196/200\n",
            "26/26 [==============================] - 24s 908ms/step - loss: 0.0011\n",
            "Epoch 197/200\n",
            "26/26 [==============================] - 24s 912ms/step - loss: 9.4851e-04\n",
            "Epoch 198/200\n",
            "26/26 [==============================] - 26s 989ms/step - loss: 0.0011\n",
            "Epoch 199/200\n",
            "26/26 [==============================] - 21s 803ms/step - loss: 0.0011\n",
            "Epoch 200/200\n",
            "26/26 [==============================] - 24s 950ms/step - loss: 9.0332e-04\n"
          ]
        }
      ],
      "source": [
        "\n",
        "model.fit([encoder_input_data , decoder_input_data], decoder_output_data, batch_size=64, epochs=200 )\n",
        "model.save( './model/model.h5' )\n",
        "\n",
        "model_structure = model.to_json()\n",
        "with open(\"./model/model_struct.json\", \"w\") as json_file:\n",
        "    json_file.write(model_structure)\n"
      ]
    },
    {
      "cell_type": "markdown",
      "metadata": {},
      "source": []
    },
    {
      "cell_type": "markdown",
      "metadata": {},
      "source": [
        "### 4.1 Loading the pre-trained model\n"
      ]
    },
    {
      "cell_type": "code",
      "execution_count": 5,
      "metadata": {},
      "outputs": [],
      "source": [
        "# from keras.models import model_from_json\n",
        "# with open('model_struct.json', 'r') as f:\n",
        "#     model_json = f.read()\n",
        "\n",
        "# model = model_from_json(model_json)\n",
        "\n",
        "model.load_weights('model.h5')"
      ]
    },
    {
      "cell_type": "markdown",
      "metadata": {
        "id": "3sOLQr0M-lAe"
      },
      "source": [
        "## 5) Defining inference models\n",
        "We create inference models which help in predicting answers.\n",
        "\n",
        "**Encoder inference model** : Takes the question as input and outputs LSTM states ( `h` and `c` ).\n",
        "\n",
        "**Decoder inference model** : Takes in 2 inputs, one are the LSTM states ( Output of encoder model ), second are the answer input seqeunces ( ones not having the `<start>` tag ). It will output the answers for the question which we fed to the encoder model and its state values."
      ]
    },
    {
      "cell_type": "code",
      "execution_count": 6,
      "metadata": {
        "id": "1u5DE4qo3Mf2"
      },
      "outputs": [],
      "source": [
        "\n",
        "def make_inference_models():\n",
        "    \n",
        "    encoder_model = tf.keras.models.Model(encoder_inputs, encoder_states)\n",
        "    \n",
        "    decoder_state_input_h = tf.keras.layers.Input(shape=( 200 ,))\n",
        "    decoder_state_input_c = tf.keras.layers.Input(shape=( 200 ,))\n",
        "    \n",
        "    decoder_states_inputs = [decoder_state_input_h, decoder_state_input_c]\n",
        "    \n",
        "    decoder_outputs, state_h, state_c = decoder_lstm(\n",
        "        decoder_embedding , initial_state=decoder_states_inputs)\n",
        "    decoder_states = [state_h, state_c]\n",
        "    decoder_outputs = decoder_dense(decoder_outputs)\n",
        "    decoder_model = tf.keras.models.Model(\n",
        "        [decoder_inputs] + decoder_states_inputs,\n",
        "        [decoder_outputs] + decoder_states)\n",
        "    \n",
        "    return encoder_model , decoder_model\n"
      ]
    },
    {
      "cell_type": "markdown",
      "metadata": {
        "id": "rxZp0ZRy-6dA"
      },
      "source": [
        "## 6) Talking with our Chatbot\n",
        "\n",
        "First, we define a method `str_to_tokens` which converts `str` questions to Integer tokens with padding.\n"
      ]
    },
    {
      "cell_type": "code",
      "execution_count": 7,
      "metadata": {
        "id": "5P_wDD554q9O"
      },
      "outputs": [],
      "source": [
        "\n",
        "def str_to_tokens( sentence : str ):\n",
        "    # sentence = re.sub(r'[^\\w]', ' ', sentence)\n",
        "    sentence = sentence.replace('?', ' ')\n",
        "    sentence = sentence.replace('.', ' ')\n",
        "    sentence = sentence.replace(',', ' ')\n",
        "    sentence = sentence.replace('!', ' ')\n",
        "    sentence = sentence.replace('-', ' ')\n",
        "    words = sentence.lower().split()\n",
        "    tokens_list = list()\n",
        "    for word in words:\n",
        "        try:\n",
        "            tokens_list.append( tokenizer.word_index[ word ] ) \n",
        "        except:\n",
        "            a = 1\n",
        "            # print(\"=>token doesn't exist in the vocabulary\")\n",
        "    return preprocessing.sequence.pad_sequences( [tokens_list] , maxlen=maxlen_questions , padding='post')\n"
      ]
    },
    {
      "cell_type": "markdown",
      "metadata": {
        "id": "djEPrfJBmZE-"
      },
      "source": [
        "\n",
        "\n",
        "\n",
        "1.   First, we take a question as input and predict the state values using `enc_model`.\n",
        "2.   We set the state values in the decoder's LSTM.\n",
        "3.   Then, we generate a sequence which contains the `<start>` element.\n",
        "4.   We input this sequence in the `dec_model`.\n",
        "5.   We replace the `<start>` element with the element which was predicted by the `dec_model` and update the state values.\n",
        "6.   We carry out the above steps iteratively till we hit the `<end>` tag or the maximum answer length.\n",
        "\n",
        "\n",
        "\n",
        "\n",
        "\n"
      ]
    },
    {
      "cell_type": "code",
      "execution_count": 8,
      "metadata": {
        "id": "2zBmN8qB3O-e"
      },
      "outputs": [
        {
          "name": "stdout",
          "output_type": "stream",
          "text": [
            "WARNING:tensorflow:Model was constructed with shape (None, 73) for input KerasTensor(type_spec=TensorSpec(shape=(None, 73), dtype=tf.float32, name='input_2'), name='input_2', description=\"created by layer 'input_2'\"), but it was called on an input with incompatible shape (None, 1).\n",
            "hey fender man i haven't seen you since high school you still workin' at jack in the box\n",
            "no thanks\n",
            "no thanks\n",
            "no thanks\n"
          ]
        }
      ],
      "source": [
        "\n",
        "enc_model , dec_model = make_inference_models()\n",
        "\n",
        "def infer_answer(question):\n",
        "    states_values = enc_model.predict(str_to_tokens(question))\n",
        "    empty_target_seq = np.zeros( ( 1 , 1 ) )\n",
        "    empty_target_seq[0, 0] = tokenizer.word_index['start']\n",
        "    stop_condition = False\n",
        "    decoded_translation = ''\n",
        "    while not stop_condition :\n",
        "        dec_outputs , h , c = dec_model.predict([ empty_target_seq ] + states_values )\n",
        "        sampled_word_index = np.argmax( dec_outputs[0, -1, :] )\n",
        "        sampled_word = None\n",
        "        for word , index in tokenizer.word_index.items() :\n",
        "            if sampled_word_index == index :\n",
        "                decoded_translation += ' {}'.format( word )\n",
        "                sampled_word = word\n",
        "        \n",
        "        if sampled_word == 'end' or len(decoded_translation.split()) > maxlen_answers:\n",
        "            stop_condition = True\n",
        "            \n",
        "        empty_target_seq = np.zeros( ( 1 , 1 ) )  \n",
        "        empty_target_seq[ 0 , 0 ] = sampled_word_index\n",
        "        states_values = [ h , c ] \n",
        "    \n",
        "    #remove last word if \"end\"\n",
        "    dec_tr_list = decoded_translation.split()\n",
        "    last_index = len(dec_tr_list) - 1\n",
        "    if dec_tr_list[last_index] == 'end':\n",
        "        dec_tr_list.pop()\n",
        "        decoded_translation = \" \"\n",
        "        decoded_translation = decoded_translation.join(dec_tr_list)\n",
        "        # string2=\" \".join(map(str,list1))\n",
        "\n",
        "    return decoded_translation\n",
        "\n",
        "for _ in range(4):\n",
        "    answer = infer_answer(input( 'Enter question : '))\n",
        "    print(answer)\n",
        "    "
      ]
    },
    {
      "cell_type": "markdown",
      "metadata": {
        "id": "0I4BtgwsgxNk"
      },
      "source": [
        "\n",
        "## 7) Conversion to TFLite ( Optional )\n",
        "\n",
        "We can convert our seq2seq model to a TensorFlow Lite model so that we can use it on edge devices.\n"
      ]
    },
    {
      "cell_type": "code",
      "execution_count": 21,
      "metadata": {
        "id": "MOS0M0uLhxN5"
      },
      "outputs": [
        {
          "name": "stdout",
          "output_type": "stream",
          "text": [
            "\u001b[31mERROR: Could not find a version that satisfies the requirement tf-nightly (from versions: none)\u001b[0m\n",
            "\u001b[31mERROR: No matching distribution found for tf-nightly\u001b[0m\n"
          ]
        }
      ],
      "source": [
        "\n",
        "!pip install tf-nightly\n"
      ]
    },
    {
      "cell_type": "code",
      "execution_count": 22,
      "metadata": {
        "id": "wT8tyvpuhBOr"
      },
      "outputs": [
        {
          "name": "stdout",
          "output_type": "stream",
          "text": [
            "WARNING:tensorflow:Compiled the loaded model, but the compiled metrics have yet to be built. `model.compile_metrics` will be empty until you train or evaluate the model.\n"
          ]
        },
        {
          "name": "stderr",
          "output_type": "stream",
          "text": [
            "WARNING:absl:Found untraced functions such as lstm_cell_layer_call_fn, lstm_cell_layer_call_and_return_conditional_losses, lstm_cell_layer_call_fn, lstm_cell_layer_call_and_return_conditional_losses, lstm_cell_layer_call_and_return_conditional_losses while saving (showing 5 of 5). These functions will not be directly callable after loading.\n"
          ]
        },
        {
          "name": "stdout",
          "output_type": "stream",
          "text": [
            "INFO:tensorflow:Assets written to: /tmp/tmpq90q3z5u/assets\n"
          ]
        },
        {
          "name": "stderr",
          "output_type": "stream",
          "text": [
            "INFO:tensorflow:Assets written to: /tmp/tmpq90q3z5u/assets\n"
          ]
        },
        {
          "data": {
            "text/plain": [
              "6224596"
            ]
          },
          "execution_count": 22,
          "metadata": {},
          "output_type": "execute_result"
        }
      ],
      "source": [
        "\n",
        "converter = tf.lite.TFLiteConverter.from_keras_model( enc_model )\n",
        "buffer = converter.convert()\n",
        "open( 'enc_model.tflite' , 'wb' ).write( buffer )\n",
        "\n",
        "converter = tf.lite.TFLiteConverter.from_keras_model( dec_model )\n",
        "open( 'dec_model.tflite' , 'wb' ).write( buffer )\n"
      ]
    }
  ],
  "metadata": {
    "accelerator": "GPU",
    "colab": {
      "collapsed_sections": [],
      "include_colab_link": true,
      "name": "ChatBot_With_Seq2Seq.ipynb",
      "private_outputs": true,
      "provenance": [],
      "toc_visible": true
    },
    "kernelspec": {
      "display_name": "Python 3.6.13 ('py36-ml')",
      "language": "python",
      "name": "python3"
    },
    "language_info": {
      "codemirror_mode": {
        "name": "ipython",
        "version": 3
      },
      "file_extension": ".py",
      "mimetype": "text/x-python",
      "name": "python",
      "nbconvert_exporter": "python",
      "pygments_lexer": "ipython3",
      "version": "3.6.13"
    },
    "vscode": {
      "interpreter": {
        "hash": "2b7f2872f4f1ec2fd28929a0638899c7f55c22668ed7d8a7bfdec2e5acd04ee2"
      }
    }
  },
  "nbformat": 4,
  "nbformat_minor": 0
}
